{
 "cells": [
  {
   "cell_type": "code",
   "execution_count": 1,
   "id": "225b452f-c229-4956-aeaa-9684d117e4f4",
   "metadata": {},
   "outputs": [
    {
     "name": "stdout",
     "output_type": "stream",
     "text": [
      "Defaulting to user installation because normal site-packages is not writeable\n",
      "Looking in indexes: https://download.pytorch.org/whl/cu118\n",
      "Requirement already satisfied: torch in /home/sakshi/.local/lib/python3.10/site-packages (2.6.0)\n",
      "Requirement already satisfied: torchvision in /home/sakshi/.local/lib/python3.10/site-packages (0.21.0)\n",
      "Requirement already satisfied: torchaudio in /home/sakshi/.local/lib/python3.10/site-packages (2.6.0+cu118)\n",
      "Requirement already satisfied: filelock in /usr/lib/python3/dist-packages (from torch) (3.6.0)\n",
      "Requirement already satisfied: typing-extensions>=4.10.0 in /home/sakshi/.local/lib/python3.10/site-packages (from torch) (4.12.2)\n",
      "Requirement already satisfied: networkx in /home/sakshi/.local/lib/python3.10/site-packages (from torch) (3.3)\n",
      "Requirement already satisfied: jinja2 in /home/sakshi/.local/lib/python3.10/site-packages (from torch) (3.1.3)\n",
      "Requirement already satisfied: fsspec in /home/sakshi/.local/lib/python3.10/site-packages (from torch) (2024.12.0)\n",
      "Requirement already satisfied: nvidia-cuda-nvrtc-cu12==12.4.127 in /home/sakshi/.local/lib/python3.10/site-packages (from torch) (12.4.127)\n",
      "Requirement already satisfied: nvidia-cuda-runtime-cu12==12.4.127 in /home/sakshi/.local/lib/python3.10/site-packages (from torch) (12.4.127)\n",
      "Requirement already satisfied: nvidia-cuda-cupti-cu12==12.4.127 in /home/sakshi/.local/lib/python3.10/site-packages (from torch) (12.4.127)\n",
      "Requirement already satisfied: nvidia-cudnn-cu12==9.1.0.70 in /home/sakshi/.local/lib/python3.10/site-packages (from torch) (9.1.0.70)\n",
      "Requirement already satisfied: nvidia-cublas-cu12==12.4.5.8 in /home/sakshi/.local/lib/python3.10/site-packages (from torch) (12.4.5.8)\n",
      "Requirement already satisfied: nvidia-cufft-cu12==11.2.1.3 in /home/sakshi/.local/lib/python3.10/site-packages (from torch) (11.2.1.3)\n",
      "Requirement already satisfied: nvidia-curand-cu12==10.3.5.147 in /home/sakshi/.local/lib/python3.10/site-packages (from torch) (10.3.5.147)\n",
      "Requirement already satisfied: nvidia-cusolver-cu12==11.6.1.9 in /home/sakshi/.local/lib/python3.10/site-packages (from torch) (11.6.1.9)\n",
      "Requirement already satisfied: nvidia-cusparse-cu12==12.3.1.170 in /home/sakshi/.local/lib/python3.10/site-packages (from torch) (12.3.1.170)\n",
      "Requirement already satisfied: nvidia-cusparselt-cu12==0.6.2 in /home/sakshi/.local/lib/python3.10/site-packages (from torch) (0.6.2)\n",
      "Requirement already satisfied: nvidia-nccl-cu12==2.21.5 in /home/sakshi/.local/lib/python3.10/site-packages (from torch) (2.21.5)\n",
      "Requirement already satisfied: nvidia-nvtx-cu12==12.4.127 in /home/sakshi/.local/lib/python3.10/site-packages (from torch) (12.4.127)\n",
      "Requirement already satisfied: nvidia-nvjitlink-cu12==12.4.127 in /home/sakshi/.local/lib/python3.10/site-packages (from torch) (12.4.127)\n",
      "Requirement already satisfied: triton==3.2.0 in /home/sakshi/.local/lib/python3.10/site-packages (from torch) (3.2.0)\n",
      "Requirement already satisfied: sympy==1.13.1 in /home/sakshi/.local/lib/python3.10/site-packages (from torch) (1.13.1)\n",
      "Requirement already satisfied: mpmath<1.4,>=1.1.0 in /home/sakshi/.local/lib/python3.10/site-packages (from sympy==1.13.1->torch) (1.3.0)\n",
      "Requirement already satisfied: numpy in /home/sakshi/.local/lib/python3.10/site-packages (from torchvision) (1.26.4)\n",
      "Requirement already satisfied: pillow!=8.3.*,>=5.3.0 in /home/sakshi/.local/lib/python3.10/site-packages (from torchvision) (11.1.0)\n",
      "Requirement already satisfied: MarkupSafe>=2.0 in /home/sakshi/.local/lib/python3.10/site-packages (from jinja2->torch) (2.1.5)\n"
     ]
    }
   ],
   "source": [
    "!pip install torch torchvision torchaudio --index-url https://download.pytorch.org/whl/cu118"
   ]
  },
  {
   "cell_type": "code",
   "execution_count": 2,
   "id": "9b290eaa-f0f6-4bff-9af9-fb262b186772",
   "metadata": {},
   "outputs": [],
   "source": [
    "from transformers import AutoTokenizer, AutoModelForSequenceClassification\n",
    "import torch\n",
    "import pandas as pd\n",
    "import numpy as np\n",
    "import re"
   ]
  },
  {
   "cell_type": "code",
   "execution_count": 3,
   "id": "f61fcd99-8a5b-49d1-b692-09f3bc4e28ad",
   "metadata": {},
   "outputs": [
    {
     "name": "stderr",
     "output_type": "stream",
     "text": [
      "2025-04-02 12:00:41.882551: I tensorflow/core/util/port.cc:153] oneDNN custom operations are on. You may see slightly different numerical results due to floating-point round-off errors from different computation orders. To turn them off, set the environment variable `TF_ENABLE_ONEDNN_OPTS=0`.\n",
      "2025-04-02 12:00:42.041880: E external/local_xla/xla/stream_executor/cuda/cuda_fft.cc:467] Unable to register cuFFT factory: Attempting to register factory for plugin cuFFT when one has already been registered\n",
      "WARNING: All log messages before absl::InitializeLog() is called are written to STDERR\n",
      "E0000 00:00:1743575442.103373   15943 cuda_dnn.cc:8579] Unable to register cuDNN factory: Attempting to register factory for plugin cuDNN when one has already been registered\n",
      "E0000 00:00:1743575442.121619   15943 cuda_blas.cc:1407] Unable to register cuBLAS factory: Attempting to register factory for plugin cuBLAS when one has already been registered\n",
      "W0000 00:00:1743575442.241532   15943 computation_placer.cc:177] computation placer already registered. Please check linkage and avoid linking the same target more than once.\n",
      "W0000 00:00:1743575442.241558   15943 computation_placer.cc:177] computation placer already registered. Please check linkage and avoid linking the same target more than once.\n",
      "W0000 00:00:1743575442.241560   15943 computation_placer.cc:177] computation placer already registered. Please check linkage and avoid linking the same target more than once.\n",
      "W0000 00:00:1743575442.241561   15943 computation_placer.cc:177] computation placer already registered. Please check linkage and avoid linking the same target more than once.\n",
      "2025-04-02 12:00:42.254721: I tensorflow/core/platform/cpu_feature_guard.cc:210] This TensorFlow binary is optimized to use available CPU instructions in performance-critical operations.\n",
      "To enable the following instructions: AVX2 AVX512F AVX512_VNNI FMA, in other operations, rebuild TensorFlow with the appropriate compiler flags.\n"
     ]
    }
   ],
   "source": [
    "tokenizer = AutoTokenizer.from_pretrained('nlptown/bert-base-multilingual-uncased-sentiment')\n",
    "model = AutoModelForSequenceClassification.from_pretrained('nlptown/bert-base-multilingual-uncased-sentiment')"
   ]
  },
  {
   "cell_type": "code",
   "execution_count": 4,
   "id": "12b796cd-03e0-4170-ac01-d6a0226e4ebf",
   "metadata": {},
   "outputs": [],
   "source": [
    "df = pd.read_csv('processed_reddit_data.csv')"
   ]
  },
  {
   "cell_type": "code",
   "execution_count": 5,
   "id": "44588136-1ed8-4a0f-abab-a4c2bca7536a",
   "metadata": {},
   "outputs": [],
   "source": [
    "text = df[['proctext']].copy()"
   ]
  },
  {
   "cell_type": "code",
   "execution_count": 29,
   "id": "26ebd1de-ed30-4ce1-88b9-410c63c3e3a0",
   "metadata": {},
   "outputs": [],
   "source": [
    "def sentiment_score(text):\n",
    "    tokens = tokenizer(text, return_tensors=\"pt\", truncation=True, padding=True, max_length=512)\n",
    "    with torch.no_grad():  \n",
    "        output = model(**tokens)\n",
    "    scores = torch.nn.functional.softmax(output.logits, dim=-1)\n",
    "    \n",
    "    sentiment = torch.argmax(scores, dim=-1).item() + 1  \n",
    "    return sentiment  "
   ]
  },
  {
   "cell_type": "code",
   "execution_count": 30,
   "id": "706a906c-221e-4130-8df3-ec235dd650d0",
   "metadata": {},
   "outputs": [],
   "source": [
    "df['proctext'] = df['proctext'].astype(str) "
   ]
  },
  {
   "cell_type": "code",
   "execution_count": 31,
   "id": "0f53e879-09bc-4ee7-9c64-13307418b042",
   "metadata": {},
   "outputs": [],
   "source": [
    "df['sentiment_score'] = df['proctext'].apply(sentiment_score)"
   ]
  },
  {
   "cell_type": "code",
   "execution_count": 32,
   "id": "9feb409a-d2c8-4e4b-9fa6-0ba67e5ac04b",
   "metadata": {},
   "outputs": [],
   "source": [
    "def label_sentiment(score):\n",
    "    if score in [1, 2]:\n",
    "        return \"Negative\"\n",
    "    elif score == 3:\n",
    "        return \"Neutral\"\n",
    "    else:\n",
    "        return \"Positive\""
   ]
  },
  {
   "cell_type": "code",
   "execution_count": 33,
   "id": "91eb2081-fddd-4ba6-9ecd-b9fc9de6d939",
   "metadata": {},
   "outputs": [],
   "source": [
    "df['sentiment_label'] = df['sentiment_score'].apply(label_sentiment)"
   ]
  },
  {
   "cell_type": "code",
   "execution_count": 35,
   "id": "aeb4b39a-d408-4856-a81c-6db05ed808cd",
   "metadata": {},
   "outputs": [
    {
     "data": {
      "image/png": "[encoded data removed]",
      "text/plain": [
       "<Figure size 800x500 with 1 Axes>"
      ]
     },
     "metadata": {},
     "output_type": "display_data"
    },
    {
     "name": "stdout",
     "output_type": "stream",
     "text": [
      "sentiment_label\n",
      "Negative    4484\n",
      "Positive     270\n",
      "Neutral      174\n",
      "Name: count, dtype: int64\n"
     ]
    }
   ],
   "source": [
    "import matplotlib.pyplot as plt\n",
    "\n",
    "sentiment_counts = df['sentiment_label'].value_counts()\n",
    "\n",
    "plt.figure(figsize=(8, 5))\n",
    "plt.bar(sentiment_counts.index, sentiment_counts.values, color=['red', 'gray', 'green'])\n",
    "plt.xlabel(\"Sentiment\")\n",
    "plt.ylabel(\"Count\")\n",
    "plt.title(\"Sentiment Distribution of Posts\")\n",
    "plt.show()\n",
    "\n",
    "print(sentiment_counts)"
   ]
  },
  {
   "cell_type": "code",
   "execution_count": 36,
   "id": "529fdb05-cc5e-498c-8dfd-145b58d2b52c",
   "metadata": {},
   "outputs": [
    {
     "name": "stdout",
     "output_type": "stream",
     "text": [
      "                                               proctext sentiment_label\n",
      "0     24m deal toxic shame thing past let hinder asp...        Negative\n",
      "1     life everyon hate one cere act like think kill...        Negative\n",
      "2     know go late depress mani year feel like okay ...        Negative\n",
      "3     lost close friend know long stori short 18 rec...        Negative\n",
      "4     sensat give want end back laid countless night...        Negative\n",
      "...                                                 ...             ...\n",
      "4923  know anyth diagnos say symptom make sad say ``...        Negative\n",
      "4924  spent good month depress want anyth stay aslee...        Negative\n",
      "4925  dissoci ident disord realiz need alter got kno...        Negative\n",
      "4926  psych hospit lot time last year job right live...        Negative\n",
      "4927  came today thing want get chest sure social an...        Negative\n",
      "\n",
      "[4928 rows x 2 columns]\n"
     ]
    }
   ],
   "source": [
    "print(df[['proctext', 'sentiment_label']])"
   ]
  },
  {
   "cell_type": "code",
   "execution_count": 2,
   "id": "1cdf7828-853c-4329-a15c-bf7e0eb2bfee",
   "metadata": {},
   "outputs": [],
   "source": [
    "# pos_samples = df[df['sentiment_label'] == \"Positive\"].sample(10, random_state=42)\n",
    "# neg_samples = df[df['sentiment_label'] == \"Negative\"].sample(10, random_state=42)\n",
    "# neu_samples = df[df['sentiment_label'] == \"Neutral\"].sample(10, random_state=42)\n",
    "\n",
    "# print(\"10 Positive Posts:\")\n",
    "# print(pos_samples[['proctext', 'sentiment_label']])\n",
    "# print(\"\\n10 Negative Posts:\")\n",
    "# print(neg_samples[['proctext', 'sentiment_label']])\n",
    "# print(\"\\n10 Neutral Posts:\")\n",
    "# print(neu_samples[['proctext', 'sentiment_label']])"
   ]
  },
  {
   "cell_type": "code",
   "execution_count": 5,
   "id": "1d67695c-8c94-4de7-b073-143e3b070b8e",
   "metadata": {},
   "outputs": [
    {
     "name": "stdout",
     "output_type": "stream",
     "text": [
      "                                            proctext  sentiment  \\\n",
      "0  24m deal toxic shame thing past let hinder asp...  -0.133333   \n",
      "1  life everyon hate one cere act like think kill...  -0.300000   \n",
      "2  know go late depress mani year feel like okay ...  -0.094600   \n",
      "3  lost close friend know long stori short 18 rec...   0.137879   \n",
      "4  sensat give want end back laid countless night...  -0.325000   \n",
      "5  hi guy european guy studi unit state never rea...  -0.058730   \n",
      "6  kind cri help life struggl depress anxieti hit...   0.078452   \n",
      "7  god tir whatev father say neg suffer grandma '...  -0.054315   \n",
      "8  depress hit realli hard insecur neg self talk ...  -0.005556   \n",
      "9  16yr old like peopl nice life nice grade frien...  -0.091667   \n",
      "\n",
      "  sentiment_label  \n",
      "0        Negative  \n",
      "1        Negative  \n",
      "2        Negative  \n",
      "3         Neutral  \n",
      "4        Negative  \n",
      "5        Negative  \n",
      "6         Neutral  \n",
      "7        Negative  \n",
      "8        Negative  \n",
      "9        Negative  \n"
     ]
    }
   ],
   "source": [
    "from textblob import TextBlob\n",
    "import pandas as pd\n",
    "\n",
    "df = pd.read_csv(\"processed_reddit_data.csv\")\n",
    "\n",
    "df['proctext'] = df['proctext'].apply(lambda x: \" \".join(x) if isinstance(x, list) else x)\n",
    "df['proctext'] = df['proctext'].fillna(\"\").astype(str)\n",
    "df['sentiment'] = df['proctext'].apply(lambda x: TextBlob(x).sentiment.polarity)\n",
    "\n",
    "df['sentiment_label'] = df['sentiment'].apply(lambda x: 'Positive' if x > 0.5 else 'Negative' if x < 0 else 'Neutral')\n",
    "\n",
    "print(df[['proctext', 'sentiment', 'sentiment_label']].head(10))"
   ]
  },
  {
   "cell_type": "code",
   "execution_count": 6,
   "id": "4195eee8-60a6-4171-a5a5-93200d27a1bd",
   "metadata": {},
   "outputs": [
    {
     "name": "stdout",
     "output_type": "stream",
     "text": [
      "sentiment_label\n",
      "Neutral     2867\n",
      "Negative    2019\n",
      "Positive      42\n",
      "Name: count, dtype: int64\n"
     ]
    }
   ],
   "source": [
    "sentiment_counts = df['sentiment_label'].value_counts()\n",
    "print(sentiment_counts)"
   ]
  },
  {
   "cell_type": "code",
   "execution_count": null,
   "id": "a25f1753-5432-4d82-b7d6-45da6f9484b4",
   "metadata": {},
   "outputs": [],
   "source": []
  }
 ],
 "metadata": {
  "kernelspec": {
   "display_name": "Python 3 (ipykernel)",
   "language": "python",
   "name": "python3"
  },
  "language_info": {
   "codemirror_mode": {
    "name": "ipython",
    "version": 3
   },
   "file_extension": ".py",
   "mimetype": "text/x-python",
   "name": "python",
   "nbconvert_exporter": "python",
   "pygments_lexer": "ipython3",
   "version": "3.10.12"
  }
 },
 "nbformat": 4,
 "nbformat_minor": 5
}
