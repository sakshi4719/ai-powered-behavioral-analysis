{
 "cells": [
  {
   "cell_type": "code",
   "execution_count": 1,
   "id": "f6ef283a-c1c6-4546-8576-b082feea1f33",
   "metadata": {},
   "outputs": [],
   "source": [
    "import pandas as pd\n",
    "df = pd.read_csv('processed_reddit_data.csv')"
   ]
  },
  {
   "cell_type": "code",
   "execution_count": 4,
   "id": "ae8c8492-c0d8-427a-ae18-7ac137d89434",
   "metadata": {},
   "outputs": [
    {
     "name": "stdout",
     "output_type": "stream",
     "text": [
      "\n",
      "Heatmap of all extracted crisis locations saved as crisis_heatmap.html\n"
     ]
    }
   ],
   "source": [
    "import pandas as pd\n",
    "from collections import Counter\n",
    "import ast\n",
    "import folium\n",
    "from folium.plugins import HeatMap\n",
    "from geopy.geocoders import Nominatim\n",
    "from geopy.exc import GeocoderTimedOut\n",
    "\n",
    "df = pd.read_csv(\"ner_extracted_locations.csv\")\n",
    "\n",
    "df_places = df.dropna(subset=['place_name'])\n",
    "\n",
    "all_places = []\n",
    "for item in df_places['place_name']:\n",
    "    try:\n",
    "        evaluated_item = ast.literal_eval(item)\n",
    "        if isinstance(evaluated_item, list):\n",
    "            all_places.extend(evaluated_item)\n",
    "        elif isinstance(evaluated_item, str):\n",
    "            all_places.append(evaluated_item)\n",
    "    except (ValueError, SyntaxError):\n",
    "        cleaned_item = item.strip(\"[]'\")\n",
    "        if cleaned_item:\n",
    "            all_places.append(cleaned_item)\n",
    "\n",
    "geolocator_heatmap = Nominatim(user_agent=\"all_crisis_locations_heatmap\")\n",
    "all_coordinates = []\n",
    "for place in all_places:\n",
    "    try:\n",
    "        location = geolocator_heatmap.geocode(place, timeout=10)\n",
    "        if location:\n",
    "            all_coordinates.append((location.latitude, location.longitude))\n",
    "        else:\n",
    "            print(f\"Could not geocode for heatmap: {place}\")\n",
    "    except GeocoderTimedOut:\n",
    "        print(f\"Geocoding timed out for heatmap: {place}\")\n",
    "    except Exception as e:\n",
    "        print(f\"An error occurred during geocoding for heatmap ({place}): {e}\")\n",
    "\n",
    "if all_coordinates:\n",
    "    m_heatmap = folium.Map(location=[20, 0], zoom_start=2)\n",
    "    HeatMap(all_coordinates).add_to(m_heatmap)\n",
    "    m_heatmap.save(\"all_crisis_locations_heatmap.html\")\n",
    "    print(\"\\nHeatmap of all extracted crisis locations saved as crisis_heatmap.html\")"
   ]
  },
  {
   "cell_type": "code",
   "execution_count": 3,
   "id": "89f8fffc-7ada-4e11-8830-f19a7282fcc0",
   "metadata": {},
   "outputs": [
    {
     "name": "stdout",
     "output_type": "stream",
     "text": [
      "Top 5 Locations with Highest Crisis Discussions:\n",
      "[('canada', 9), ('india', 9), ('texas', 7), ('florida', 6), ('california', 5)]\n",
      "\n",
      "Map of top 5 crisis locations saved as top_5_crisis_locations_map.html\n"
     ]
    }
   ],
   "source": [
    "import pandas as pd\n",
    "from collections import Counter\n",
    "import ast\n",
    "import folium\n",
    "from geopy.geocoders import Nominatim\n",
    "from geopy.exc import GeocoderTimedOut\n",
    "\n",
    "df = pd.read_csv(\"ner_extracted_locations.csv\")\n",
    "\n",
    "df_places = df.dropna(subset=['place_name'])\n",
    "\n",
    "all_places = []\n",
    "for item in df_places['place_name']:\n",
    "    try:\n",
    "        evaluated_item = ast.literal_eval(item)\n",
    "        if isinstance(evaluated_item, list):\n",
    "            all_places.extend(evaluated_item)\n",
    "        elif isinstance(evaluated_item, str):\n",
    "            all_places.append(evaluated_item)\n",
    "    except (ValueError, SyntaxError):\n",
    "        cleaned_item = item.strip(\"[]'\")\n",
    "        if cleaned_item:\n",
    "            all_places.append(cleaned_item)\n",
    "\n",
    "location_counts = Counter(all_places)\n",
    "\n",
    "top_5_locations = location_counts.most_common(5)\n",
    "\n",
    "print(\"Top 5 Locations with Highest Crisis Discussions:\")\n",
    "print(top_5_locations)\n",
    "\n",
    "geolocator = Nominatim(user_agent=\"top_5_crisis_locations\")\n",
    "top_5_coordinates = []\n",
    "for place, count in top_5_locations:\n",
    "    try:\n",
    "        location = geolocator.geocode(place, timeout=10)\n",
    "        if location:\n",
    "            top_5_coordinates.append((location.latitude, location.longitude, count))\n",
    "        else:\n",
    "            print(f\"Could not geocode: {place}\")\n",
    "    except GeocoderTimedOut:\n",
    "        print(f\"Geocoding timed out for: {place}\")\n",
    "    except Exception as e:\n",
    "        print(f\"An error occurred while geocoding {place}: {e}\")\n",
    "\n",
    "if top_5_coordinates:\n",
    "    avg_lat = sum(coord[0] for coord in top_5_coordinates) / len(top_5_coordinates)\n",
    "    avg_lon = sum(coord[1] for coord in top_5_coordinates) / len(top_5_coordinates)\n",
    "    m = folium.Map(location=[avg_lat, avg_lon], zoom_start=3)\n",
    "\n",
    "    for lat, lon, count in top_5_coordinates:\n",
    "        folium.Marker(\n",
    "            [lat, lon],\n",
    "            popup=f\"{geolocator.reverse((lat, lon), exactly_one=True).address}: {count} discussions\",\n",
    "            icon=folium.Icon(color='red', icon='info-sign')\n",
    "        ).add_to(m)\n",
    "\n",
    "    m.save(\"top_5_crisis_locations_map.html\")\n",
    "    print(\"\\nMap of top 5 crisis locations saved as top_5_crisis_locations_map.html\")"
   ]
  },
  {
   "cell_type": "code",
   "execution_count": null,
   "id": "c68cb68d-9e17-4807-aac0-030edd410f36",
   "metadata": {},
   "outputs": [],
   "source": []
  }
 ],
 "metadata": {
  "kernelspec": {
   "display_name": "Python 3 (ipykernel)",
   "language": "python",
   "name": "python3"
  },
  "language_info": {
   "codemirror_mode": {
    "name": "ipython",
    "version": 3
   },
   "file_extension": ".py",
   "mimetype": "text/x-python",
   "name": "python",
   "nbconvert_exporter": "python",
   "pygments_lexer": "ipython3",
   "version": "3.10.12"
  }
 },
 "nbformat": 4,
 "nbformat_minor": 5
}
