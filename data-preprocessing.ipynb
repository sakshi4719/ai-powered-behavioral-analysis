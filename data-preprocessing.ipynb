{
 "cells": [
  {
   "cell_type": "code",
   "execution_count": 1,
   "id": "89428094-b8b9-4ddd-b14b-d9725b732f97",
   "metadata": {},
   "outputs": [],
   "source": [
    "import pandas as pd\n",
    "import nltk\n",
    "from nltk.corpus import stopwords\n",
    "import emoji"
   ]
  },
  {
   "cell_type": "code",
   "execution_count": 2,
   "id": "4519bb05-0280-4053-ae50-b959f3ca74cb",
   "metadata": {},
   "outputs": [
    {
     "name": "stderr",
     "output_type": "stream",
     "text": [
      "[nltk_data] Downloading package punkt to /home/sakshi/nltk_data...\n",
      "[nltk_data]   Package punkt is already up-to-date!\n",
      "[nltk_data] Downloading package wordnet to /home/sakshi/nltk_data...\n",
      "[nltk_data]   Package wordnet is already up-to-date!\n",
      "[nltk_data] Downloading package stopwords to /home/sakshi/nltk_data...\n",
      "[nltk_data]   Package stopwords is already up-to-date!\n"
     ]
    },
    {
     "data": {
      "text/plain": [
       "True"
      ]
     },
     "execution_count": 2,
     "metadata": {},
     "output_type": "execute_result"
    }
   ],
   "source": [
    "nltk.download('punkt')\n",
    "nltk.download('wordnet')\n",
    "nltk.download('stopwords')"
   ]
  },
  {
   "cell_type": "code",
   "execution_count": 3,
   "id": "aeb543da-d896-4f6a-9875-b14a48285387",
   "metadata": {},
   "outputs": [],
   "source": [
    "df = pd.read_csv(\"/home/sakshi/Documents/ai-powered/data_before_processing.csv\")"
   ]
  },
  {
   "cell_type": "code",
   "execution_count": 4,
   "id": "a30305b6-c124-4b30-9cbe-a5b930095db8",
   "metadata": {},
   "outputs": [
    {
     "name": "stdout",
     "output_type": "stream",
     "text": [
      "Defaulting to user installation because normal site-packages is not writeable\n",
      "Requirement already satisfied: emoji in /home/sakshi/.local/lib/python3.10/site-packages (2.14.1)\n"
     ]
    }
   ],
   "source": [
    "!pip install emoji"
   ]
  },
  {
   "cell_type": "code",
   "execution_count": 5,
   "id": "b342e2b7-e7a6-45f1-ad9c-1307e75915cc",
   "metadata": {},
   "outputs": [
    {
     "name": "stdout",
     "output_type": "stream",
     "text": [
      "                                            selftext  \\\n",
      "0  I'm a 24m dealing with toxic shame from things...   \n",
      "1  In my life everyone hates me no one Ceres and ...   \n",
      "2  I don't know what's going on with me lately. I...   \n",
      "3  I have lost all my close friends. Don't know w...   \n",
      "4  That sensation of giving in and wanting it all...   \n",
      "\n",
      "                                            proctext  \n",
      "0  24m dealing toxic shame things past letting hi...  \n",
      "1  life everyone hates one Ceres act like thinkin...  \n",
      "2  know what's going lately. depression many year...  \n",
      "3  lost close friends. know do. Long story short....  \n",
      "4  sensation giving wanting end back. I’ve laid c...  \n"
     ]
    }
   ],
   "source": [
    "# Removing emojis and tokenzing words\n",
    "# Remove stopwords\n",
    "\n",
    "stop_words = set(stopwords.words('english'))\n",
    "\n",
    "df['selftext'] = df['selftext'].astype(str)  \n",
    "\n",
    "df['proctext'] = df['selftext'].apply(lambda x: ' '.join(\n",
    "    [word for word in x.split() if word.lower() not in stop_words]\n",
    "))  \n",
    "df['proctext'] = df['proctext'].apply(lambda x: emoji.replace_emoji(x, replace=\"\"))  \n",
    "\n",
    "print(df[['selftext', 'proctext']].head())"
   ]
  },
  {
   "cell_type": "code",
   "execution_count": 6,
   "id": "aa613c99-b7ea-4c06-bb74-deeebbaa7bc4",
   "metadata": {},
   "outputs": [
    {
     "name": "stdout",
     "output_type": "stream",
     "text": [
      "                                            proctext\n",
      "0  24m dealing toxic shame things past letting hi...\n",
      "1  life everyone hates one Ceres act like thinkin...\n",
      "2  know what is going lately. depression many yea...\n",
      "3  lost close friends. know do. Long story short....\n",
      "4  sensation giving wanting end back. I have laid...\n"
     ]
    }
   ],
   "source": [
    "# Expanding contractions\n",
    "\n",
    "import contractions\n",
    "\n",
    "df['proctext'] = df['proctext'].apply(lambda x: contractions.fix(x))  \n",
    "\n",
    "print(df[['proctext']].head())"
   ]
  },
  {
   "cell_type": "code",
   "execution_count": 7,
   "id": "f47bcd1b-459e-4f69-b2d5-47e560feb8ae",
   "metadata": {},
   "outputs": [
    {
     "name": "stdout",
     "output_type": "stream",
     "text": [
      "                                            proctext\n",
      "0  [24m, dealing, toxic, shame, things, past, let...\n",
      "1  [life, everyone, hates, one, Ceres, act, like,...\n",
      "2  [know, what, is, going, lately, ., depression,...\n",
      "3  [lost, close, friends, ., know, do, ., Long, s...\n",
      "4  [sensation, giving, wanting, end, back, ., I, ...\n"
     ]
    }
   ],
   "source": [
    "# Tokenizing words\n",
    "\n",
    "from nltk import word_tokenize\n",
    "\n",
    "df['proctext'] = df['proctext'].apply(word_tokenize)\n",
    "\n",
    "print(df[['proctext']].head())"
   ]
  },
  {
   "cell_type": "code",
   "execution_count": 8,
   "id": "061435af-1f45-46d6-87e4-e4bdc7969e79",
   "metadata": {},
   "outputs": [
    {
     "name": "stdout",
     "output_type": "stream",
     "text": [
      "                                            proctext\n",
      "0  [24m, dealing, toxic, shame, things, past, let...\n",
      "1  [life, everyone, hates, one, Ceres, act, like,...\n",
      "2  [know, going, lately, ., depression, many, yea...\n",
      "3  [lost, close, friends, ., know, ., Long, story...\n",
      "4  [sensation, giving, wanting, end, back, ., I, ...\n"
     ]
    }
   ],
   "source": [
    "# Removing stopwords\n",
    "\n",
    "from nltk.corpus import stopwords\n",
    "\n",
    "stop_words = set(stopwords.words('english'))\n",
    "df['proctext'] = df['proctext'].apply(lambda tokens: [word for word in tokens if word not in stop_words])\n",
    "\n",
    "print(df[['proctext']].head())"
   ]
  },
  {
   "cell_type": "code",
   "execution_count": 16,
   "id": "8935be26-835b-4219-b0b4-b203419cef84",
   "metadata": {},
   "outputs": [
    {
     "name": "stdout",
     "output_type": "stream",
     "text": [
      "                                            proctext\n",
      "0  [2, 4, m,  , d, e, a, l,  , t, o, x, i, c,  , ...\n",
      "1  [l, i, f, e,  , e, v, e, r, y, o, n,  , h, a, ...\n",
      "2  [k, n, o, w,  , g, o,  , l, a, t, e,  , d, e, ...\n",
      "3  [l, o, s, t,  , c, l, o, s, e,  , f, r, i, e, ...\n",
      "4  [s, e, n, s, a, t,  , g, i, v, e,  , w, a, n, ...\n"
     ]
    }
   ],
   "source": [
    "# Lemmatization\n",
    "\n",
    "from nltk.stem import PorterStemmer, WordNetLemmatizer\n",
    "\n",
    "stemmer = PorterStemmer()\n",
    "lemmatizer = WordNetLemmatizer()\n",
    "\n",
    "df['proctext'] = df['proctext'].apply(lambda tokens: [lemmatizer.lemmatize(word) for word in tokens])  \n",
    "df['proctext'] = df['proctext'].apply(lambda tokens: [stemmer.stem(word) for word in tokens])  \n",
    "\n",
    "print(df[['proctext']].head())"
   ]
  },
  {
   "cell_type": "code",
   "execution_count": 12,
   "id": "958f95a6-c299-4c42-acad-ae742f47c5dc",
   "metadata": {},
   "outputs": [
    {
     "name": "stdout",
     "output_type": "stream",
     "text": [
      "                                            proctext\n",
      "0  [24m, deal, toxic, shame, thing, past, let, hi...\n",
      "1  [life, everyon, hate, one, cere, act, like, th...\n",
      "2  [know, go, late, depress, mani, year, feel, li...\n",
      "3  [lost, close, friend, know, long, stori, short...\n",
      "4  [sensat, give, want, end, back, i, laid, count...\n"
     ]
    }
   ],
   "source": [
    "# Removing punctuation\n",
    "\n",
    "import string\n",
    "\n",
    "df['proctext'] = df['proctext'].apply(lambda x: [word for word in x if word not in string.punctuation])\n",
    "\n",
    "print(df[['proctext']].head())"
   ]
  },
  {
   "cell_type": "code",
   "execution_count": null,
   "id": "c70d396a-95ee-474c-97b6-26c651a0c7db",
   "metadata": {},
   "outputs": [],
   "source": [
    "import re\n",
    "\n",
    "def remove_urls(text):\n",
    "    url_pattern = re.compile(r'http?://\\S+|www\\.\\S+')\n",
    "    return url_pattern.sub('', text)\n",
    "\n",
    "text_with_urls = \"Check out this website: https://www.example.com or visit www.another-site.org for more info.\"\n",
    "text_without_urls = remove_urls(text_with_urls)\n",
    "print(f\"Original text: {text_with_urls}\")\n",
    "print(f\"Text without URLs: {text_without_urls}\")\n",
    "\n",
    "# If your text data is in a pandas DataFrame column:\n",
    "import pandas as pd\n",
    "\n",
    "# Assuming your DataFrame is named 'df' and the text column is 'proctext'\n",
    "# df['proctext_no_urls'] = df['proctext'].apply(remove_urls)\n",
    "# print(df[['proctext', 'proctext_no_urls']].head())"
   ]
  },
  {
   "cell_type": "code",
   "execution_count": 13,
   "id": "60ea56ed-7c1c-4b4f-a452-b7261b66382a",
   "metadata": {},
   "outputs": [
    {
     "name": "stdout",
     "output_type": "stream",
     "text": [
      "                                             proctext  sentiment  \\\n",
      "0   24m deal toxic shame thing past let hinder asp...  -0.133333   \n",
      "1   life everyon hate one cere act like think kill...  -0.300000   \n",
      "2   know go late depress mani year feel like okay ...  -0.094600   \n",
      "3   lost close friend know long stori short 18 rec...   0.137879   \n",
      "4   sensat give want end back i laid countless nig...  -0.325000   \n",
      "5   hi guy european guy studi unit state never rea...  -0.058730   \n",
      "6   kind of cri help life struggl depress anxieti ...   0.078452   \n",
      "7   god i tir whatev father say neg suffer grandma...  -0.054315   \n",
      "8   depress hit realli hard insecur neg self talk ...  -0.005556   \n",
      "9   16yr old like peopl nice life nice grade frien...  -0.091667   \n",
      "10  know take care even small stuff feel exhaust t...   0.104000   \n",
      "11  anyon feel enorm weight everyth go u polit lat...  -0.021496   \n",
      "12  alway yearn self got cheat sort trauma let sel...   0.209361   \n",
      "13  i decent place life i healthi relationship fir...   0.204720   \n",
      "14  love race keep go actual find way enjoy entir ...   0.400000   \n",
      "15  depress anxiou sad cri unabl cri now.it uncomf...  -0.283333   \n",
      "16  welcom death open arm go way pain immens feel ...   0.250000   \n",
      "17  today final figur aliv ill give exampl sometim...   0.087374   \n",
      "18  feel like noth make happi anymor think go end ...   0.350000   \n",
      "19  tri talk depress alway black wall appear mind ...   0.027382   \n",
      "\n",
      "   sentiment_label  \n",
      "0         Negative  \n",
      "1         Negative  \n",
      "2         Negative  \n",
      "3          Neutral  \n",
      "4         Negative  \n",
      "5         Negative  \n",
      "6          Neutral  \n",
      "7         Negative  \n",
      "8         Negative  \n",
      "9         Negative  \n",
      "10         Neutral  \n",
      "11        Negative  \n",
      "12         Neutral  \n",
      "13         Neutral  \n",
      "14         Neutral  \n",
      "15        Negative  \n",
      "16         Neutral  \n",
      "17         Neutral  \n",
      "18         Neutral  \n",
      "19         Neutral  \n"
     ]
    }
   ],
   "source": [
    "from textblob import TextBlob\n",
    "\n",
    "df['proctext'] = df['proctext'].apply(lambda x: \" \".join(x) if isinstance(x, list) else x)\n",
    "\n",
    "df['sentiment'] = df['proctext'].apply(lambda x: TextBlob(x).sentiment.polarity)\n",
    "df['sentiment_label'] = df['sentiment'].apply(lambda x: 'Positive' if x > 0.5 else 'Negative' if x < 0 else 'Neutral')\n",
    "\n",
    "print(df[['proctext', 'sentiment', 'sentiment_label']].head(20))"
   ]
  },
  {
   "cell_type": "code",
   "execution_count": 14,
   "id": "3266e072-86a6-4453-8f6e-02c1abdf0385",
   "metadata": {},
   "outputs": [
    {
     "name": "stdout",
     "output_type": "stream",
     "text": [
      "Top High-Risk Crisis Terms:\n",
      "feel: 0.1447\n",
      "like: 0.1277\n",
      "want: 0.1103\n",
      "know: 0.1033\n",
      "get: 0.1030\n",
      "go: 0.0984\n",
      "life: 0.0824\n",
      "time: 0.0778\n",
      "day: 0.0738\n",
      "even: 0.0737\n",
      "year: 0.0693\n",
      "think: 0.0684\n",
      "help: 0.0681\n",
      "would: 0.0669\n",
      "anxieti: 0.0664\n",
      "tri: 0.0663\n",
      "realli: 0.0661\n",
      "thing: 0.0624\n",
      "one: 0.0613\n",
      "peopl: 0.0598\n"
     ]
    }
   ],
   "source": [
    "from sklearn.feature_extraction.text import TfidfVectorizer\n",
    "\n",
    "documents = df['proctext'].astype(str)  \n",
    "\n",
    "vectorizer = TfidfVectorizer(max_features=50)  \n",
    "tfidf_matrix = vectorizer.fit_transform(documents)\n",
    "\n",
    "feature_names = vectorizer.get_feature_names_out()\n",
    "\n",
    "average_tfidf_scores = tfidf_matrix.mean(axis=0).A1  \n",
    "word_scores = dict(zip(feature_names, average_tfidf_scores))\n",
    "\n",
    "sorted_words = sorted(word_scores.items(), key=lambda x: x[1], reverse=True)\n",
    "\n",
    "print(\"Top High-Risk Crisis Terms:\")\n",
    "for word, score in sorted_words[:20]:  \n",
    "    print(f\"{word}: {score:.4f}\")"
   ]
  },
  {
   "cell_type": "code",
   "execution_count": 15,
   "id": "4e4da43e-a42c-4a66-8db6-b7628910eb95",
   "metadata": {},
   "outputs": [
    {
     "name": "stdout",
     "output_type": "stream",
     "text": [
      "                                            proctext        risk_level\n",
      "0  24m deal toxic shame thing past let hinder asp...           Unknown\n",
      "1  life everyon hate one cere act like think kill...           Unknown\n",
      "2  know go late depress mani year feel like okay ...  Moderate Concern\n",
      "3  lost close friend know long stori short 18 rec...  Moderate Concern\n",
      "4  sensat give want end back laid countless night...           Unknown\n"
     ]
    }
   ],
   "source": [
    "import pandas as pd\n",
    "from sklearn.feature_extraction.text import TfidfVectorizer\n",
    "\n",
    "df = pd.read_csv('processed_reddit_data.csv')\n",
    "\n",
    "df['proctext'] = df['proctext'].fillna('')\n",
    "\n",
    "tfidf_vectorizer = TfidfVectorizer(max_features=5000, stop_words='english')\n",
    "tfidf_matrix = tfidf_vectorizer.fit_transform(df['proctext'])\n",
    "\n",
    "high_risk_keywords = [\"suicide\", \"kill myself\", \"end it\", \"not want to live\", \"die\", \"unalive\"]\n",
    "moderate_concern_keywords = [\"help\", \"lost\", \"struggle\", \"hopeless\", \"support\"]\n",
    "low_concern_keywords = [\"stress\", \"anxiety\", \"depression\", \"overwhelmed\", \"sad\"]\n",
    "\n",
    "def categorize_post_tfidf(post, tfidf_vectorizer, high_risk_keywords, moderate_concern_keywords, low_concern_keywords):\n",
    "    post_vector = tfidf_vectorizer.transform([post])\n",
    "    feature_names = tfidf_vectorizer.get_feature_names_out()\n",
    "    post_features = {feature_names[i]: post_vector[0, i] for i in post_vector.nonzero()[1]}\n",
    "    \n",
    "    if any(keyword in post_features for keyword in high_risk_keywords):\n",
    "        return \"High-Risk\"\n",
    "    elif any(keyword in post_features for keyword in moderate_concern_keywords):\n",
    "        return \"Moderate Concern\"\n",
    "    elif any(keyword in post_features for keyword in low_concern_keywords):\n",
    "        return \"Low Concern\"\n",
    "    else:\n",
    "        return \"Unknown\"\n",
    "\n",
    "df['risk_level'] = df['proctext'].apply(\n",
    "    lambda x: categorize_post_tfidf(x, tfidf_vectorizer, high_risk_keywords, moderate_concern_keywords, low_concern_keywords)\n",
    ")\n",
    "\n",
    "print(df[['proctext', 'risk_level']].head())"
   ]
  },
  {
   "cell_type": "code",
   "execution_count": 13,
   "id": "c5b2a873-d352-4c1c-9189-b0102ec70bfa",
   "metadata": {},
   "outputs": [
    {
     "name": "stderr",
     "output_type": "stream",
     "text": [
      "/home/sakshi/.local/lib/python3.10/site-packages/tqdm/auto.py:21: TqdmWarning: IProgress not found. Please update jupyter and ipywidgets. See https://ipywidgets.readthedocs.io/en/stable/user_install.html\n",
      "  from .autonotebook import tqdm as notebook_tqdm\n",
      "2025-03-26 21:41:51.259961: I tensorflow/core/util/port.cc:153] oneDNN custom operations are on. You may see slightly different numerical results due to floating-point round-off errors from different computation orders. To turn them off, set the environment variable `TF_ENABLE_ONEDNN_OPTS=0`.\n",
      "2025-03-26 21:41:51.274633: E external/local_xla/xla/stream_executor/cuda/cuda_fft.cc:467] Unable to register cuFFT factory: Attempting to register factory for plugin cuFFT when one has already been registered\n",
      "WARNING: All log messages before absl::InitializeLog() is called are written to STDERR\n",
      "E0000 00:00:1743005511.294958    9717 cuda_dnn.cc:8579] Unable to register cuDNN factory: Attempting to register factory for plugin cuDNN when one has already been registered\n",
      "E0000 00:00:1743005511.302416    9717 cuda_blas.cc:1407] Unable to register cuBLAS factory: Attempting to register factory for plugin cuBLAS when one has already been registered\n",
      "W0000 00:00:1743005511.317894    9717 computation_placer.cc:177] computation placer already registered. Please check linkage and avoid linking the same target more than once.\n",
      "W0000 00:00:1743005511.317918    9717 computation_placer.cc:177] computation placer already registered. Please check linkage and avoid linking the same target more than once.\n",
      "W0000 00:00:1743005511.317919    9717 computation_placer.cc:177] computation placer already registered. Please check linkage and avoid linking the same target more than once.\n",
      "W0000 00:00:1743005511.317921    9717 computation_placer.cc:177] computation placer already registered. Please check linkage and avoid linking the same target more than once.\n",
      "2025-03-26 21:41:51.322472: I tensorflow/core/platform/cpu_feature_guard.cc:210] This TensorFlow binary is optimized to use available CPU instructions in performance-critical operations.\n",
      "To enable the following instructions: AVX2 AVX512F AVX512_VNNI FMA, in other operations, rebuild TensorFlow with the appropriate compiler flags.\n"
     ]
    }
   ],
   "source": [
    "from transformers import BertTokenizer, BertModel\n",
    "import torch\n",
    "import numpy as np\n",
    "import pandas as pd\n",
    "\n",
    "df = pd.read_csv('processed_reddit_data.csv')\n",
    "\n",
    "df['proctext'] = df['proctext'].fillna('').astype(str)\n",
    "\n",
    "tokenizer = BertTokenizer.from_pretrained('bert-base-uncased')\n",
    "model = BertModel.from_pretrained('bert-base-uncased')\n",
    "\n",
    "def get_bert_embeddings(text):\n",
    "    inputs = tokenizer(text, return_tensors='pt', truncation=True, padding=True)\n",
    "    outputs = model(**inputs)\n",
    "    return outputs.last_hidden_state.mean(dim=1).detach().numpy()\n",
    "\n",
    "bert_embeddings = np.array([get_bert_embeddings(text) for text in df['proctext']])"
   ]
  },
  {
   "cell_type": "code",
   "execution_count": null,
   "id": "77803de6-8a59-4c3c-b8dc-29f34f78f5c2",
   "metadata": {},
   "outputs": [],
   "source": [
    "#what do we do about the slang and censored words that come up due to social media censoring, like kill is also called unalive now, or die is also d!e"
   ]
  },
  {
   "cell_type": "code",
   "execution_count": 14,
   "id": "05a9f3a8-4817-4a0a-abd5-5ee7de1e3fd0",
   "metadata": {},
   "outputs": [
    {
     "name": "stdout",
     "output_type": "stream",
     "text": [
      "[[[-1.0334441e-01 -1.2316852e-03  6.7409593e-01 ... -3.4048063e-01\n",
      "   -3.9263163e-02 -5.0352822e-04]]\n",
      "\n",
      " [[ 1.0450419e-01  3.0996373e-01  6.5675521e-01 ... -6.4808005e-01\n",
      "    1.5808739e-01 -2.2700147e-01]]\n",
      "\n",
      " [[-2.6940271e-01 -2.2484684e-01  7.4433798e-01 ... -3.4273896e-01\n",
      "   -1.8045604e-01 -8.2647137e-02]]\n",
      "\n",
      " ...\n",
      "\n",
      " [[-3.3005652e-01 -6.3812621e-03  3.9491674e-01 ... -5.1560384e-01\n",
      "   -9.0304554e-02  4.6313763e-01]]\n",
      "\n",
      " [[-4.1177863e-01 -5.8633704e-02  7.0672405e-01 ... -5.0547856e-01\n",
      "   -7.5565189e-02  5.9663247e-02]]\n",
      "\n",
      " [[-3.3195384e-02 -2.1978228e-01  8.1471634e-01 ... -2.1001236e-01\n",
      "   -1.1199527e-01  3.5263091e-02]]]\n"
     ]
    }
   ],
   "source": [
    "print(bert_embeddings)"
   ]
  },
  {
   "cell_type": "code",
   "execution_count": 15,
   "id": "389961a5-297d-4dec-8d6b-276c58d2b15a",
   "metadata": {},
   "outputs": [
    {
     "name": "stdout",
     "output_type": "stream",
     "text": [
      "Risk_Level\n",
      "Moderate Concern    3970\n",
      "Low Concern          913\n",
      "High-Risk             45\n",
      "Name: count, dtype: int64\n"
     ]
    },
    {
     "data": {
      "image/png": "[encoded data removed]",
      "text/plain": [
       "<Figure size 800x500 with 1 Axes>"
      ]
     },
     "metadata": {},
     "output_type": "display_data"
    }
   ],
   "source": [
    "from transformers import BertTokenizer, BertModel\n",
    "import torch\n",
    "import numpy as np\n",
    "import pandas as pd\n",
    "from sklearn.metrics.pairwise import cosine_similarity\n",
    "import matplotlib.pyplot as plt\n",
    "\n",
    "df = pd.read_csv('processed_reddit_data.csv')\n",
    "df['proctext'] = df['proctext'].fillna('').astype(str)\n",
    "\n",
    "tokenizer = BertTokenizer.from_pretrained('bert-base-uncased')\n",
    "model = BertModel.from_pretrained('bert-base-uncased')\n",
    "\n",
    "crisis_terms = [\n",
    "    \"die\",\n",
    "    \"kill\",\n",
    "    \"end it all\",\n",
    "    \"hate life\",\n",
    "    \"need help\",\n",
    "    \"feel lost\",\n",
    "    \"not live\",\n",
    "]\n",
    "\n",
    "def get_bert_embeddings(text):\n",
    "    inputs = tokenizer(text, return_tensors='pt', truncation=True, padding=True)\n",
    "    outputs = model(**inputs)\n",
    "    return outputs.last_hidden_state.mean(dim=1).detach().numpy()\n",
    "\n",
    "crisis_embeddings = np.array([get_bert_embeddings(term) for term in crisis_terms])\n",
    "\n",
    "def classify_risk(text):\n",
    "    post_embedding = get_bert_embeddings(text)\n",
    "    similarities = cosine_similarity(post_embedding, crisis_embeddings.reshape(len(crisis_terms), -1))\n",
    "    max_similarity = np.max(similarities)\n",
    "    \n",
    "    if max_similarity > 0.7:\n",
    "        return \"High-Risk\"\n",
    "    elif max_similarity > 0.4:\n",
    "        return \"Moderate Concern\"\n",
    "    else:\n",
    "        return \"Low Concern\"\n",
    "\n",
    "df['Risk_Level'] = df['proctext'].apply(classify_risk)\n",
    "\n",
    "risk_counts = df['Risk_Level'].value_counts()\n",
    "print(risk_counts)\n",
    "\n",
    "plt.figure(figsize=(8,5))\n",
    "plt.bar(risk_counts.index, risk_counts.values, color=['red', 'orange', 'green'])\n",
    "plt.xlabel(\"Risk Level\")\n",
    "plt.ylabel(\"Number of Posts\")\n",
    "plt.title(\"Distribution of Posts by Risk Level\")\n",
    "plt.show()\n",
    "\n",
    "df.to_csv(\"classified_reddit_data.csv\", index=False)\n"
   ]
  },
  {
   "cell_type": "code",
   "execution_count": 17,
   "id": "a845e981-e3d5-4464-bb55-8acb814cd7ce",
   "metadata": {},
   "outputs": [],
   "source": [
    "# for category in [\"High-Risk\", \"Moderate Concern\", \"Low Concern\"]:\n",
    "#     print(f\"\\nSample {category} Posts:\")\n",
    "#     sample_posts = df[df['Risk_Level'] == category]['selftext'].sample(min(3, len(df[df['Risk_Level'] == category]))).tolist()\n",
    "#     for i, post in enumerate(sample_posts, 1):\n",
    "#         print(f\"{i}. {post}\\n\")"
   ]
  },
  {
   "cell_type": "code",
   "execution_count": 18,
   "id": "0f450827-a3f6-4e65-87c4-f07553245edd",
   "metadata": {},
   "outputs": [
    {
     "name": "stderr",
     "output_type": "stream",
     "text": [
      "/home/sakshi/.local/lib/python3.10/site-packages/tqdm/auto.py:21: TqdmWarning: IProgress not found. Please update jupyter and ipywidgets. See https://ipywidgets.readthedocs.io/en/stable/user_install.html\n",
      "  from .autonotebook import tqdm as notebook_tqdm\n",
      "2025-03-29 01:29:43.066091: I tensorflow/core/util/port.cc:153] oneDNN custom operations are on. You may see slightly different numerical results due to floating-point round-off errors from different computation orders. To turn them off, set the environment variable `TF_ENABLE_ONEDNN_OPTS=0`.\n",
      "2025-03-29 01:29:43.224963: E external/local_xla/xla/stream_executor/cuda/cuda_fft.cc:467] Unable to register cuFFT factory: Attempting to register factory for plugin cuFFT when one has already been registered\n",
      "WARNING: All log messages before absl::InitializeLog() is called are written to STDERR\n",
      "E0000 00:00:1743191983.282894   52948 cuda_dnn.cc:8579] Unable to register cuDNN factory: Attempting to register factory for plugin cuDNN when one has already been registered\n",
      "E0000 00:00:1743191983.298796   52948 cuda_blas.cc:1407] Unable to register cuBLAS factory: Attempting to register factory for plugin cuBLAS when one has already been registered\n",
      "W0000 00:00:1743191983.427555   52948 computation_placer.cc:177] computation placer already registered. Please check linkage and avoid linking the same target more than once.\n",
      "W0000 00:00:1743191983.427590   52948 computation_placer.cc:177] computation placer already registered. Please check linkage and avoid linking the same target more than once.\n",
      "W0000 00:00:1743191983.427592   52948 computation_placer.cc:177] computation placer already registered. Please check linkage and avoid linking the same target more than once.\n",
      "W0000 00:00:1743191983.427593   52948 computation_placer.cc:177] computation placer already registered. Please check linkage and avoid linking the same target more than once.\n",
      "2025-03-29 01:29:43.443724: I tensorflow/core/platform/cpu_feature_guard.cc:210] This TensorFlow binary is optimized to use available CPU instructions in performance-critical operations.\n",
      "To enable the following instructions: AVX2 AVX512F AVX512_VNNI FMA, in other operations, rebuild TensorFlow with the appropriate compiler flags.\n",
      "Some weights of RobertaModel were not initialized from the model checkpoint at roberta-base and are newly initialized: ['roberta.pooler.dense.bias', 'roberta.pooler.dense.weight']\n",
      "You should probably TRAIN this model on a down-stream task to be able to use it for predictions and inference.\n"
     ]
    }
   ],
   "source": [
    "from transformers import RobertaTokenizer, RobertaModel\n",
    "import torch\n",
    "import numpy as np\n",
    "import pandas as pd\n",
    "from sklearn.metrics.pairwise import cosine_similarity\n",
    "import matplotlib.pyplot as plt\n",
    "\n",
    "df = pd.read_csv('processed_reddit_data.csv')\n",
    "df['proctext'] = df['proctext'].fillna('').astype(str)\n",
    "\n",
    "tokenizer = RobertaTokenizer.from_pretrained('roberta-base')\n",
    "model = RobertaModel.from_pretrained('roberta-base')"
   ]
  },
  {
   "cell_type": "code",
   "execution_count": 19,
   "id": "57a04bb7-9725-4750-a71d-cca92ce34a7b",
   "metadata": {},
   "outputs": [],
   "source": [
    "def get_roberta_embeddings(text):\n",
    "    inputs = tokenizer(text, return_tensors='pt', truncation=True, padding=True)\n",
    "    outputs = model(**inputs)\n",
    "    return outputs.last_hidden_state.mean(dim=1).detach().numpy()"
   ]
  },
  {
   "cell_type": "code",
   "execution_count": null,
   "id": "bd49feff-2477-4f1b-afd4-8cc5883a114b",
   "metadata": {},
   "outputs": [],
   "source": []
  }
 ],
 "metadata": {
  "kernelspec": {
   "display_name": "Python 3 (ipykernel)",
   "language": "python",
   "name": "python3"
  },
  "language_info": {
   "codemirror_mode": {
    "name": "ipython",
    "version": 3
   },
   "file_extension": ".py",
   "mimetype": "text/x-python",
   "name": "python",
   "nbconvert_exporter": "python",
   "pygments_lexer": "ipython3",
   "version": "3.10.12"
  }
 },
 "nbformat": 4,
 "nbformat_minor": 5
}
