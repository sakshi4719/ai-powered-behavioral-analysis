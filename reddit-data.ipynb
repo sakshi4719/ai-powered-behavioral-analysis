{
 "cells": [
  {
   "cell_type": "markdown",
   "id": "2f5b4d10-22c2-4eef-9bb2-c94945129e16",
   "metadata": {},
   "source": [
    "### Scraping Posts"
   ]
  },
  {
   "cell_type": "code",
   "execution_count": 2,
   "id": "ee35613e-5b0d-4e8f-b0b4-d7ea9df1af04",
   "metadata": {},
   "outputs": [],
   "source": [
    "from pprint import pprint\n",
    "import pandas as pd\n",
    "import numpy as np\n",
    "import matplotlib.pyplot as plt\n",
    "import seaborn as sns"
   ]
  },
  {
   "cell_type": "code",
   "execution_count": 3,
   "id": "fd196498-ef61-406c-bba3-70f75985ed6d",
   "metadata": {},
   "outputs": [],
   "source": [
    "import praw\n",
    "\n",
    "user_agent = \"Scraper 1.0 by /u/anonymous20042007\"\n",
    "reddit = praw.Reddit(\n",
    "    client_id=\"QMOPaONJbihjtLRLs4WhTw\",\n",
    "    client_secret=\"JFeDiuNLj_eeBVDn9YrJk9C-JrXefw\",\n",
    "    user_agent = user_agent\n",
    ")"
   ]
  },
  {
   "cell_type": "code",
   "execution_count": 38,
   "id": "c1297f21-6257-4007-81b2-307351a0bb48",
   "metadata": {},
   "outputs": [],
   "source": [
    "# headlines = set()\n",
    "\n",
    "# for submission in reddit.subreddit(\"depression\").new(limit = None):\n",
    "#     print(submission.id)\n",
    "#     print(submission.title)\n",
    "#     print(submission.author)\n",
    "#     print(submission.subreddit)\n",
    "#     print(submission.created_utc)\n",
    "#     print(submission.num_comments)\n",
    "#     print(submission.upvote_ratio)\n",
    "#     print(submission.score)\n",
    "#     print(submission.selftext)\n",
    "#     print(submission.permalink)\n",
    "    \n",
    "#     headlines.add(submission.title)\n",
    "# print(len(headlines))\n",
    "\n",
    "# df = pd.DataFrame(headlines)\n",
    "# df.head()\n",
    "\n",
    "# df.to_csv('headlines.csv', header = False, encoding = 'utf-8', index=False)"
   ]
  },
  {
   "cell_type": "code",
   "execution_count": 43,
   "id": "2542a6b4-f328-487f-8972-549d72be67cb",
   "metadata": {},
   "outputs": [
    {
     "name": "stdout",
     "output_type": "stream",
     "text": [
      "Scraping depression...\n",
      "Scraping anxiety...\n",
      "Scraping addiction...\n",
      "Scraping SuicideWatch...\n",
      "Scraping mentalhealth...\n",
      "Data scraping complete\n"
     ]
    }
   ],
   "source": [
    "import time\n",
    "\n",
    "subreddits = [\"depression\", \"anxiety\", \"addiction\", \"SuicideWatch\", \"mentalhealth\"]\n",
    "\n",
    "all_posts = []\n",
    "\n",
    "for sub in subreddits:\n",
    "    print(f\"Scraping {sub}...\")\n",
    "    count = 0\n",
    "\n",
    "    for submission in reddit.subreddit(sub).new(limit=2000):  \n",
    "        if count >= 1000:\n",
    "            break  \n",
    "            \n",
    "        all_posts.append({\n",
    "            \"id\": submission.id,\n",
    "            \"subreddit\": sub,\n",
    "            \"title\": submission.title,\n",
    "            \"author\": str(submission.author),\n",
    "            \"created_utc\": submission.created_utc,\n",
    "            \"num_comments\": submission.num_comments,\n",
    "            \"upvote_ratio\": submission.upvote_ratio,\n",
    "            \"score\": submission.score,\n",
    "            \"selftext\": submission.selftext,\n",
    "            \"permalink\": f\"https://www.reddit.com{submission.permalink}\"\n",
    "        })\n",
    "        count += 1\n",
    "\n",
    "    time.sleep(5)  \n",
    "\n",
    "df = pd.DataFrame(all_posts)\n",
    "\n",
    "df.to_csv(\"/home/sakshi/Downloads/reddit_data.csv\", index=False)\n",
    "print(\"Data scraping complete\")"
   ]
  },
  {
   "cell_type": "markdown",
   "id": "61a47d19-0102-465d-8e1a-ef9faf52f31c",
   "metadata": {},
   "source": [
    "### Scraping Comments"
   ]
  },
  {
   "cell_type": "code",
   "execution_count": 14,
   "id": "3002fda4-5dbb-4eca-bb66-85db7b45a01e",
   "metadata": {},
   "outputs": [
    {
     "name": "stdout",
     "output_type": "stream",
     "text": [
      "Scraping MentalHealthHelp...\n",
      "Scraping MentalHealthSupport...\n",
      "Data scraping complete\n"
     ]
    }
   ],
   "source": [
    "import time\n",
    "import praw \n",
    "import pandas as pd\n",
    "\n",
    "reddit = praw.Reddit(client_id=\"QMOPaONJbihjtLRLs4WhTw\",\n",
    "                     client_secret=\"JFeDiuNLj_eeBVDn9YrJk9C-JrXefw\",\n",
    "                     user_agent=\"Scraper 1.0 by /u/anonymous20042007\")\n",
    "\n",
    "subreddits = [\"MentalHealthHelp\", \"MentalHealthSupport\"]\n",
    "\n",
    "all_posts = []\n",
    "\n",
    "for sub in subreddits:\n",
    "    print(f\"Scraping {sub}...\")\n",
    "    count = 0\n",
    "\n",
    "    try:\n",
    "        for submission in reddit.subreddit(sub).new(limit=2000):\n",
    "            if count >= 2000:\n",
    "                break\n",
    "\n",
    "            body = submission.selftext  \n",
    "            parent_id = None  \n",
    "            \n",
    "            all_posts.append({\n",
    "                \"subreddit\": sub,\n",
    "                \"body\": body,\n",
    "                \"title\": submission.title,\n",
    "                \"created_utc\": submission.created_utc,\n",
    "                \"id\": submission.id  \n",
    "            })\n",
    "            count += 1\n",
    "\n",
    "        time.sleep(5)\n",
    "\n",
    "    except praw.exceptions.RedditAPIException as e:\n",
    "        print(f\"Error scraping {sub}: {e}\")\n",
    "        time.sleep(60)  \n",
    "    except Exception as e:\n",
    "        print(f\"An unexpected error occurred while scraping {sub}: {e}\")\n",
    "\n",
    "df = pd.DataFrame(all_posts)\n",
    "\n",
    "df.to_csv(\"/home/sakshi/Downloads/reddit_comments.csv\", index=False) \n",
    "print(\"Data scraping complete\")"
   ]
  },
  {
   "cell_type": "code",
   "execution_count": null,
   "id": "2942934a-37cc-4465-b0ef-933d65d4e747",
   "metadata": {},
   "outputs": [],
   "source": []
  }
 ],
 "metadata": {
  "kernelspec": {
   "display_name": "Python 3 (ipykernel)",
   "language": "python",
   "name": "python3"
  },
  "language_info": {
   "codemirror_mode": {
    "name": "ipython",
    "version": 3
   },
   "file_extension": ".py",
   "mimetype": "text/x-python",
   "name": "python",
   "nbconvert_exporter": "python",
   "pygments_lexer": "ipython3",
   "version": "3.10.12"
  }
 },
 "nbformat": 4,
 "nbformat_minor": 5
}
