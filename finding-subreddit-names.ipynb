{
 "cells": [
  {
   "cell_type": "code",
   "execution_count": 2,
   "id": "b9c2c745-43a9-4125-ab9e-5dbffb05e248",
   "metadata": {},
   "outputs": [
    {
     "name": "stdout",
     "output_type": "stream",
     "text": [
      "Searching for subreddits...\n",
      "Found potential subreddit: mentalhealth (Matched on: 'mental health', Fuzzy Score: 92)\n",
      "Found potential subreddit: MentalHealthSupport (Matched on: 'mental health', Fuzzy Score: 92)\n",
      "Found potential subreddit: MentalHealthUK (Matched on: 'mental health', Fuzzy Score: 92)\n",
      "Found potential subreddit: MentalHealthPH (Matched on: 'mental health', Fuzzy Score: 92)\n",
      "Found potential subreddit: MensMentalHealth (Matched on: 'mental health', Fuzzy Score: 96)\n",
      "Found potential subreddit: MentalHealthPros (Matched on: 'mental health', Fuzzy Score: 92)\n",
      "Found potential subreddit: HolisticMentalHealth (Matched on: 'mental health', Fuzzy Score: 96)\n",
      "Found potential subreddit: BlackMentalHealth (Matched on: 'mental health', Fuzzy Score: 96)\n",
      "Found potential subreddit: MentalHealthIsland (Matched on: 'mental health', Fuzzy Score: 92)\n",
      "Found potential subreddit: MentalHealthHelp (Matched on: 'mental health', Fuzzy Score: 92)\n",
      "Finished searching with keyword: 'mental health'\n",
      "\n",
      "Found Subreddits:\n",
      "mentalhealth\n",
      "MentalHealthPros\n",
      "BlackMentalHealth\n",
      "MentalHealthHelp\n",
      "MentalHealthIsland\n",
      "MentalHealthSupport\n",
      "MentalHealthPH\n",
      "HolisticMentalHealth\n",
      "MensMentalHealth\n",
      "MentalHealthUK\n"
     ]
    }
   ],
   "source": [
    "import praw\n",
    "from fuzzywuzzy import fuzz\n",
    "from fuzzywuzzy import process\n",
    "\n",
    "user_agent = \"Scraper 1.0 by /u/anonymous20042007\"\n",
    "reddit = praw.Reddit(\n",
    "    client_id=\"QMOPaONJbihjtLRLs4WhTw\",\n",
    "    client_secret=\"JFeDiuNLj_eeBVDn9YrJk9C-JrXefw\",\n",
    "    user_agent = user_agent\n",
    ")\n",
    "base_words = [\"mental health\"]\n",
    "\n",
    "found_subreddits = set()\n",
    "num_subreddits_to_find = 10\n",
    "\n",
    "print(\"Searching for subreddits...\")\n",
    "\n",
    "for word in base_words:\n",
    "    if len(found_subreddits) >= num_subreddits_to_find:\n",
    "        break\n",
    "    try:\n",
    "        for subreddit in reddit.subreddits.search(query=word, limit=None): \n",
    "            if subreddit.display_name.lower() not in [sr.lower() for sr in found_subreddits]:\n",
    "                match = process.extractOne(subreddit.display_name, base_words, scorer=fuzz.partial_ratio)\n",
    "                if match and match[1] >= 70: \n",
    "                    found_subreddits.add(subreddit.display_name)\n",
    "                    print(f\"Found potential subreddit: {subreddit.display_name} (Matched on: '{word}', Fuzzy Score: {match[1]})\")\n",
    "                    if len(found_subreddits) >= num_subreddits_to_find:\n",
    "                        break\n",
    "        print(f\"Finished searching with keyword: '{word}'\")\n",
    "    except Exception as e:\n",
    "        print(f\"Error during search with keyword '{word}': {e}\")\n",
    "\n",
    "print(\"\\nFound Subreddits:\")\n",
    "if found_subreddits:\n",
    "    for subreddit_name in list(found_subreddits)[:num_subreddits_to_find]:\n",
    "        print(subreddit_name)\n",
    "else:\n",
    "    print(\"No relevant subreddits found based on the keywords.\")"
   ]
  },
  {
   "cell_type": "code",
   "execution_count": null,
   "id": "908002f4-5d60-4265-9b4a-f3e71a26636e",
   "metadata": {},
   "outputs": [],
   "source": []
  }
 ],
 "metadata": {
  "kernelspec": {
   "display_name": "Python 3 (ipykernel)",
   "language": "python",
   "name": "python3"
  },
  "language_info": {
   "codemirror_mode": {
    "name": "ipython",
    "version": 3
   },
   "file_extension": ".py",
   "mimetype": "text/x-python",
   "name": "python",
   "nbconvert_exporter": "python",
   "pygments_lexer": "ipython3",
   "version": "3.10.12"
  }
 },
 "nbformat": 4,
 "nbformat_minor": 5
}
